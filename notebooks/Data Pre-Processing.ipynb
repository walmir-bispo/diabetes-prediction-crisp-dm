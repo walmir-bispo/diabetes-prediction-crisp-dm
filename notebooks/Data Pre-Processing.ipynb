{
 "cells": [
  {
   "attachments": {},
   "cell_type": "markdown",
   "metadata": {},
   "source": [
    "# Imports"
   ]
  },
  {
   "cell_type": "code",
   "execution_count": 1,
   "metadata": {},
   "outputs": [],
   "source": [
    "import pandas as pd\n",
    "import numpy as np"
   ]
  },
  {
   "attachments": {},
   "cell_type": "markdown",
   "metadata": {},
   "source": [
    "# Read Data"
   ]
  },
  {
   "cell_type": "code",
   "execution_count": 2,
   "metadata": {},
   "outputs": [],
   "source": [
    "diabetes_raw = pd.read_csv(\"../data/raw/diabetic_data.csv\")"
   ]
  },
  {
   "cell_type": "code",
   "execution_count": 3,
   "metadata": {},
   "outputs": [
    {
     "data": {
      "text/html": [
       "<div>\n",
       "<style scoped>\n",
       "    .dataframe tbody tr th:only-of-type {\n",
       "        vertical-align: middle;\n",
       "    }\n",
       "\n",
       "    .dataframe tbody tr th {\n",
       "        vertical-align: top;\n",
       "    }\n",
       "\n",
       "    .dataframe thead th {\n",
       "        text-align: right;\n",
       "    }\n",
       "</style>\n",
       "<table border=\"1\" class=\"dataframe\">\n",
       "  <thead>\n",
       "    <tr style=\"text-align: right;\">\n",
       "      <th></th>\n",
       "      <th>encounter_id</th>\n",
       "      <th>patient_nbr</th>\n",
       "      <th>race</th>\n",
       "      <th>gender</th>\n",
       "      <th>age</th>\n",
       "      <th>weight</th>\n",
       "      <th>admission_type_id</th>\n",
       "      <th>discharge_disposition_id</th>\n",
       "      <th>admission_source_id</th>\n",
       "      <th>time_in_hospital</th>\n",
       "      <th>...</th>\n",
       "      <th>citoglipton</th>\n",
       "      <th>insulin</th>\n",
       "      <th>glyburide-metformin</th>\n",
       "      <th>glipizide-metformin</th>\n",
       "      <th>glimepiride-pioglitazone</th>\n",
       "      <th>metformin-rosiglitazone</th>\n",
       "      <th>metformin-pioglitazone</th>\n",
       "      <th>change</th>\n",
       "      <th>diabetesMed</th>\n",
       "      <th>readmitted</th>\n",
       "    </tr>\n",
       "  </thead>\n",
       "  <tbody>\n",
       "    <tr>\n",
       "      <th>0</th>\n",
       "      <td>2278392</td>\n",
       "      <td>8222157</td>\n",
       "      <td>Caucasian</td>\n",
       "      <td>Female</td>\n",
       "      <td>[0-10)</td>\n",
       "      <td>?</td>\n",
       "      <td>6</td>\n",
       "      <td>25</td>\n",
       "      <td>1</td>\n",
       "      <td>1</td>\n",
       "      <td>...</td>\n",
       "      <td>No</td>\n",
       "      <td>No</td>\n",
       "      <td>No</td>\n",
       "      <td>No</td>\n",
       "      <td>No</td>\n",
       "      <td>No</td>\n",
       "      <td>No</td>\n",
       "      <td>No</td>\n",
       "      <td>No</td>\n",
       "      <td>NO</td>\n",
       "    </tr>\n",
       "    <tr>\n",
       "      <th>1</th>\n",
       "      <td>149190</td>\n",
       "      <td>55629189</td>\n",
       "      <td>Caucasian</td>\n",
       "      <td>Female</td>\n",
       "      <td>[10-20)</td>\n",
       "      <td>?</td>\n",
       "      <td>1</td>\n",
       "      <td>1</td>\n",
       "      <td>7</td>\n",
       "      <td>3</td>\n",
       "      <td>...</td>\n",
       "      <td>No</td>\n",
       "      <td>Up</td>\n",
       "      <td>No</td>\n",
       "      <td>No</td>\n",
       "      <td>No</td>\n",
       "      <td>No</td>\n",
       "      <td>No</td>\n",
       "      <td>Ch</td>\n",
       "      <td>Yes</td>\n",
       "      <td>&gt;30</td>\n",
       "    </tr>\n",
       "    <tr>\n",
       "      <th>2</th>\n",
       "      <td>64410</td>\n",
       "      <td>86047875</td>\n",
       "      <td>AfricanAmerican</td>\n",
       "      <td>Female</td>\n",
       "      <td>[20-30)</td>\n",
       "      <td>?</td>\n",
       "      <td>1</td>\n",
       "      <td>1</td>\n",
       "      <td>7</td>\n",
       "      <td>2</td>\n",
       "      <td>...</td>\n",
       "      <td>No</td>\n",
       "      <td>No</td>\n",
       "      <td>No</td>\n",
       "      <td>No</td>\n",
       "      <td>No</td>\n",
       "      <td>No</td>\n",
       "      <td>No</td>\n",
       "      <td>No</td>\n",
       "      <td>Yes</td>\n",
       "      <td>NO</td>\n",
       "    </tr>\n",
       "    <tr>\n",
       "      <th>3</th>\n",
       "      <td>500364</td>\n",
       "      <td>82442376</td>\n",
       "      <td>Caucasian</td>\n",
       "      <td>Male</td>\n",
       "      <td>[30-40)</td>\n",
       "      <td>?</td>\n",
       "      <td>1</td>\n",
       "      <td>1</td>\n",
       "      <td>7</td>\n",
       "      <td>2</td>\n",
       "      <td>...</td>\n",
       "      <td>No</td>\n",
       "      <td>Up</td>\n",
       "      <td>No</td>\n",
       "      <td>No</td>\n",
       "      <td>No</td>\n",
       "      <td>No</td>\n",
       "      <td>No</td>\n",
       "      <td>Ch</td>\n",
       "      <td>Yes</td>\n",
       "      <td>NO</td>\n",
       "    </tr>\n",
       "    <tr>\n",
       "      <th>4</th>\n",
       "      <td>16680</td>\n",
       "      <td>42519267</td>\n",
       "      <td>Caucasian</td>\n",
       "      <td>Male</td>\n",
       "      <td>[40-50)</td>\n",
       "      <td>?</td>\n",
       "      <td>1</td>\n",
       "      <td>1</td>\n",
       "      <td>7</td>\n",
       "      <td>1</td>\n",
       "      <td>...</td>\n",
       "      <td>No</td>\n",
       "      <td>Steady</td>\n",
       "      <td>No</td>\n",
       "      <td>No</td>\n",
       "      <td>No</td>\n",
       "      <td>No</td>\n",
       "      <td>No</td>\n",
       "      <td>Ch</td>\n",
       "      <td>Yes</td>\n",
       "      <td>NO</td>\n",
       "    </tr>\n",
       "  </tbody>\n",
       "</table>\n",
       "<p>5 rows × 50 columns</p>\n",
       "</div>"
      ],
      "text/plain": [
       "   encounter_id  patient_nbr             race  gender      age weight  \\\n",
       "0       2278392      8222157        Caucasian  Female   [0-10)      ?   \n",
       "1        149190     55629189        Caucasian  Female  [10-20)      ?   \n",
       "2         64410     86047875  AfricanAmerican  Female  [20-30)      ?   \n",
       "3        500364     82442376        Caucasian    Male  [30-40)      ?   \n",
       "4         16680     42519267        Caucasian    Male  [40-50)      ?   \n",
       "\n",
       "   admission_type_id  discharge_disposition_id  admission_source_id  \\\n",
       "0                  6                        25                    1   \n",
       "1                  1                         1                    7   \n",
       "2                  1                         1                    7   \n",
       "3                  1                         1                    7   \n",
       "4                  1                         1                    7   \n",
       "\n",
       "   time_in_hospital  ... citoglipton insulin  glyburide-metformin  \\\n",
       "0                 1  ...          No      No                   No   \n",
       "1                 3  ...          No      Up                   No   \n",
       "2                 2  ...          No      No                   No   \n",
       "3                 2  ...          No      Up                   No   \n",
       "4                 1  ...          No  Steady                   No   \n",
       "\n",
       "   glipizide-metformin  glimepiride-pioglitazone  metformin-rosiglitazone  \\\n",
       "0                   No                        No                       No   \n",
       "1                   No                        No                       No   \n",
       "2                   No                        No                       No   \n",
       "3                   No                        No                       No   \n",
       "4                   No                        No                       No   \n",
       "\n",
       "   metformin-pioglitazone  change diabetesMed readmitted  \n",
       "0                      No      No          No         NO  \n",
       "1                      No      Ch         Yes        >30  \n",
       "2                      No      No         Yes         NO  \n",
       "3                      No      Ch         Yes         NO  \n",
       "4                      No      Ch         Yes         NO  \n",
       "\n",
       "[5 rows x 50 columns]"
      ]
     },
     "execution_count": 3,
     "metadata": {},
     "output_type": "execute_result"
    }
   ],
   "source": [
    "diabetes_raw.head()"
   ]
  },
  {
   "cell_type": "code",
   "execution_count": 4,
   "metadata": {},
   "outputs": [
    {
     "data": {
      "text/plain": [
       "NO     54864\n",
       ">30    35545\n",
       "<30    11357\n",
       "Name: readmitted, dtype: int64"
      ]
     },
     "execution_count": 4,
     "metadata": {},
     "output_type": "execute_result"
    }
   ],
   "source": [
    "diabetes_raw['readmitted'].value_counts()"
   ]
  },
  {
   "attachments": {},
   "cell_type": "markdown",
   "metadata": {},
   "source": [
    "# Pre-processing"
   ]
  },
  {
   "attachments": {},
   "cell_type": "markdown",
   "metadata": {},
   "source": [
    "## Lidando com inconsistências"
   ]
  },
  {
   "cell_type": "code",
   "execution_count": 5,
   "metadata": {},
   "outputs": [],
   "source": [
    "diabetes_raw.replace(\"?\", np.nan, inplace=True)"
   ]
  },
  {
   "cell_type": "code",
   "execution_count": 6,
   "metadata": {},
   "outputs": [
    {
     "name": "stdout",
     "output_type": "stream",
     "text": [
      "Unique entries =  71518\n",
      "Length after removing Duplicates: 71518\n"
     ]
    }
   ],
   "source": [
    "print('Unique entries = ', len(np.unique(diabetes_raw['patient_nbr'])))\n",
    "diabetes_raw.drop_duplicates(['patient_nbr'], keep = 'first', inplace = True)\n",
    "print('Length after removing Duplicates:', len(diabetes_raw))"
   ]
  },
  {
   "cell_type": "code",
   "execution_count": 7,
   "metadata": {},
   "outputs": [],
   "source": [
    "# 1,13,14,19,20,21 estão relacionados a morte ou hospício. Obviamente tais pessoas não\n",
    "# serão reinternadas ao hospital. Precisamos deletar tais amostras.\n",
    "filter = diabetes_raw['discharge_disposition_id'].isin([11,13,14,19,20,21])\n",
    "diabetes_raw = diabetes_raw[~filter]"
   ]
  },
  {
   "cell_type": "code",
   "execution_count": 8,
   "metadata": {},
   "outputs": [
    {
     "data": {
      "text/plain": [
       "(69973, 45)"
      ]
     },
     "execution_count": 8,
     "metadata": {},
     "output_type": "execute_result"
    }
   ],
   "source": [
    "to_drop = [\"patient_nbr\", \"weight\", \"encounter_id\", \"examide\", \"citoglipton\"]\n",
    "diabetes_raw.drop(columns=to_drop, axis=1, inplace=True)\n",
    "diabetes_raw.shape"
   ]
  },
  {
   "attachments": {},
   "cell_type": "markdown",
   "metadata": {},
   "source": [
    "## Ajustando escopo da classe target"
   ]
  },
  {
   "cell_type": "code",
   "execution_count": 9,
   "metadata": {},
   "outputs": [],
   "source": [
    "diabetes_raw['readmitted'].replace(\">30\", \"NO\", inplace=True)"
   ]
  },
  {
   "attachments": {},
   "cell_type": "markdown",
   "metadata": {},
   "source": [
    "## Imputação de valores"
   ]
  },
  {
   "cell_type": "code",
   "execution_count": 10,
   "metadata": {},
   "outputs": [
    {
     "data": {
      "text/plain": [
       "Index(['admission_type_id', 'discharge_disposition_id', 'admission_source_id',\n",
       "       'time_in_hospital', 'num_lab_procedures', 'num_procedures',\n",
       "       'num_medications', 'number_outpatient', 'number_emergency',\n",
       "       'number_inpatient', 'number_diagnoses'],\n",
       "      dtype='object')"
      ]
     },
     "execution_count": 10,
     "metadata": {},
     "output_type": "execute_result"
    }
   ],
   "source": [
    "num_features = diabetes_raw.select_dtypes(include=np.number).columns\n",
    "num_features"
   ]
  },
  {
   "cell_type": "code",
   "execution_count": 11,
   "metadata": {},
   "outputs": [
    {
     "data": {
      "text/plain": [
       "Index(['race', 'gender', 'age', 'payer_code', 'medical_specialty', 'diag_1',\n",
       "       'diag_2', 'diag_3', 'max_glu_serum', 'A1Cresult', 'metformin',\n",
       "       'repaglinide', 'nateglinide', 'chlorpropamide', 'glimepiride',\n",
       "       'acetohexamide', 'glipizide', 'glyburide', 'tolbutamide',\n",
       "       'pioglitazone', 'rosiglitazone', 'acarbose', 'miglitol', 'troglitazone',\n",
       "       'tolazamide', 'insulin', 'glyburide-metformin', 'glipizide-metformin',\n",
       "       'glimepiride-pioglitazone', 'metformin-rosiglitazone',\n",
       "       'metformin-pioglitazone', 'change', 'diabetesMed', 'readmitted'],\n",
       "      dtype='object')"
      ]
     },
     "execution_count": 11,
     "metadata": {},
     "output_type": "execute_result"
    }
   ],
   "source": [
    "cat_features = diabetes_raw.select_dtypes(include=object).columns\n",
    "cat_features"
   ]
  },
  {
   "cell_type": "code",
   "execution_count": 12,
   "metadata": {},
   "outputs": [
    {
     "data": {
      "text/plain": [
       "admission_type_id           0\n",
       "discharge_disposition_id    0\n",
       "admission_source_id         0\n",
       "time_in_hospital            0\n",
       "num_lab_procedures          0\n",
       "num_procedures              0\n",
       "num_medications             0\n",
       "number_outpatient           0\n",
       "number_emergency            0\n",
       "number_inpatient            0\n",
       "number_diagnoses            0\n",
       "dtype: int64"
      ]
     },
     "execution_count": 12,
     "metadata": {},
     "output_type": "execute_result"
    }
   ],
   "source": [
    "# Sem necessidade de imputação nas features numéricas\n",
    "diabetes_raw[num_features].isna().sum()"
   ]
  },
  {
   "cell_type": "code",
   "execution_count": 13,
   "metadata": {},
   "outputs": [
    {
     "data": {
      "text/plain": [
       "race                         1918\n",
       "gender                          0\n",
       "age                             0\n",
       "payer_code                  30415\n",
       "medical_specialty           33639\n",
       "diag_1                         10\n",
       "diag_2                        293\n",
       "diag_3                       1224\n",
       "max_glu_serum                   0\n",
       "A1Cresult                       0\n",
       "metformin                       0\n",
       "repaglinide                     0\n",
       "nateglinide                     0\n",
       "chlorpropamide                  0\n",
       "glimepiride                     0\n",
       "acetohexamide                   0\n",
       "glipizide                       0\n",
       "glyburide                       0\n",
       "tolbutamide                     0\n",
       "pioglitazone                    0\n",
       "rosiglitazone                   0\n",
       "acarbose                        0\n",
       "miglitol                        0\n",
       "troglitazone                    0\n",
       "tolazamide                      0\n",
       "insulin                         0\n",
       "glyburide-metformin             0\n",
       "glipizide-metformin             0\n",
       "glimepiride-pioglitazone        0\n",
       "metformin-rosiglitazone         0\n",
       "metformin-pioglitazone          0\n",
       "change                          0\n",
       "diabetesMed                     0\n",
       "readmitted                      0\n",
       "dtype: int64"
      ]
     },
     "execution_count": 13,
     "metadata": {},
     "output_type": "execute_result"
    }
   ],
   "source": [
    "diabetes_raw[cat_features].isna().sum()"
   ]
  },
  {
   "cell_type": "code",
   "execution_count": 14,
   "metadata": {},
   "outputs": [],
   "source": [
    "diabetes_raw['medical_specialty'] = diabetes_raw['medical_specialty'].fillna(\"Missing\")\n",
    "diabetes_raw['payer_code'] = diabetes_raw['payer_code'].fillna(\"Missing\")"
   ]
  },
  {
   "cell_type": "code",
   "execution_count": 15,
   "metadata": {},
   "outputs": [],
   "source": [
    "from sklearn.impute import SimpleImputer\n",
    "\n",
    "col_to_input = ['race', 'diag_1', 'diag_2', 'diag_3']\n",
    "si = SimpleImputer(missing_values=np.nan, strategy='most_frequent')\n",
    "si.fit(diabetes_raw[col_to_input])\n",
    "diabetes_raw[col_to_input] = si.transform(diabetes_raw[col_to_input])"
   ]
  },
  {
   "cell_type": "code",
   "execution_count": 16,
   "metadata": {},
   "outputs": [
    {
     "data": {
      "text/plain": [
       "race                        0\n",
       "gender                      0\n",
       "age                         0\n",
       "payer_code                  0\n",
       "medical_specialty           0\n",
       "diag_1                      0\n",
       "diag_2                      0\n",
       "diag_3                      0\n",
       "max_glu_serum               0\n",
       "A1Cresult                   0\n",
       "metformin                   0\n",
       "repaglinide                 0\n",
       "nateglinide                 0\n",
       "chlorpropamide              0\n",
       "glimepiride                 0\n",
       "acetohexamide               0\n",
       "glipizide                   0\n",
       "glyburide                   0\n",
       "tolbutamide                 0\n",
       "pioglitazone                0\n",
       "rosiglitazone               0\n",
       "acarbose                    0\n",
       "miglitol                    0\n",
       "troglitazone                0\n",
       "tolazamide                  0\n",
       "insulin                     0\n",
       "glyburide-metformin         0\n",
       "glipizide-metformin         0\n",
       "glimepiride-pioglitazone    0\n",
       "metformin-rosiglitazone     0\n",
       "metformin-pioglitazone      0\n",
       "change                      0\n",
       "diabetesMed                 0\n",
       "readmitted                  0\n",
       "dtype: int64"
      ]
     },
     "execution_count": 16,
     "metadata": {},
     "output_type": "execute_result"
    }
   ],
   "source": [
    "diabetes_raw[cat_features].isna().sum()"
   ]
  },
  {
   "attachments": {},
   "cell_type": "markdown",
   "metadata": {},
   "source": [
    "## Feature Engineering"
   ]
  },
  {
   "attachments": {},
   "cell_type": "markdown",
   "metadata": {},
   "source": [
    "### Age feature"
   ]
  },
  {
   "cell_type": "code",
   "execution_count": 17,
   "metadata": {},
   "outputs": [],
   "source": [
    "import re\n",
    "\n",
    "def age_to_number(age_interval):\n",
    "    match = re.findall(r'\\d+', age_interval)\n",
    "    return (int(match[0]) + int(match[1])) / 2\n",
    "\n",
    "diabetes_raw['age'] = diabetes_raw['age'].apply(age_to_number)"
   ]
  },
  {
   "cell_type": "code",
   "execution_count": 18,
   "metadata": {},
   "outputs": [
    {
     "data": {
      "text/plain": [
       "0          5.0\n",
       "1         15.0\n",
       "2         25.0\n",
       "3         35.0\n",
       "4         45.0\n",
       "          ... \n",
       "101754    75.0\n",
       "101755    45.0\n",
       "101756    65.0\n",
       "101758    85.0\n",
       "101765    75.0\n",
       "Name: age, Length: 69973, dtype: float64"
      ]
     },
     "execution_count": 18,
     "metadata": {},
     "output_type": "execute_result"
    }
   ],
   "source": [
    "diabetes_raw.age"
   ]
  },
  {
   "attachments": {},
   "cell_type": "markdown",
   "metadata": {},
   "source": [
    "### Clustering some features"
   ]
  },
  {
   "attachments": {},
   "cell_type": "markdown",
   "metadata": {},
   "source": [
    "#### diag feature"
   ]
  },
  {
   "cell_type": "code",
   "execution_count": 19,
   "metadata": {},
   "outputs": [],
   "source": [
    "def categorize_icd9_code(x):\n",
    "    \n",
    "    if 'V' in str(x) or 'E' in str(x):\n",
    "        return 'other'\n",
    "\n",
    "    x_int = int(float(x))\n",
    "    \n",
    "    icd9_categories = {\n",
    "        'circulatory': list(range(390, 460)) + [785],\n",
    "        'respiratory': list(range(460, 520)) + [786],\n",
    "        'digestive': list(range(520, 580)) + [787],\n",
    "        'diabetes': [250],\n",
    "        'injury': list(range(800, 1000)),\n",
    "        'musculoskeletal': list(range(710, 740)),\n",
    "        'genitourinary': list(range(580, 630)) + [788],\n",
    "        'neoplasms': list(range(140, 240)),\n",
    "    }\n",
    "\n",
    "    for category, icd9_range in icd9_categories.items():\n",
    "        if x_int in icd9_range:\n",
    "            return category\n",
    "    \n",
    "    return 'other'"
   ]
  },
  {
   "cell_type": "code",
   "execution_count": 20,
   "metadata": {},
   "outputs": [],
   "source": [
    "diabetes_raw['diag_1'] = diabetes_raw['diag_1'].apply(categorize_icd9_code)\n",
    "diabetes_raw['diag_2'] = diabetes_raw['diag_2'].apply(categorize_icd9_code)\n",
    "diabetes_raw['diag_3'] = diabetes_raw['diag_3'].apply(categorize_icd9_code)"
   ]
  },
  {
   "attachments": {},
   "cell_type": "markdown",
   "metadata": {},
   "source": [
    "#### medical_specialty feature"
   ]
  },
  {
   "cell_type": "code",
   "execution_count": 22,
   "metadata": {},
   "outputs": [
    {
     "name": "stdout",
     "output_type": "stream",
     "text": [
      "Missing                                 33639\n",
      "InternalMedicine                        10641\n",
      "Family/GeneralPractice                   4978\n",
      "Emergency/Trauma                         4393\n",
      "Cardiology                               4207\n",
      "Surgery-General                          2205\n",
      "Orthopedics                              1128\n",
      "Orthopedics-Reconstructive               1041\n",
      "Radiologist                               821\n",
      "Nephrology                                797\n",
      "Pulmonology                               637\n",
      "Psychiatry                                613\n",
      "ObstetricsandGynecology                   593\n",
      "Urology                                   530\n",
      "Surgery-Cardiovascular/Thoracic           488\n",
      "Surgery-Neuro                             404\n",
      "Gastroenterology                          383\n",
      "Surgery-Vascular                          359\n",
      "Oncology                                  205\n",
      "Pediatrics                                195\n",
      "PhysicalMedicineandRehabilitation         194\n",
      "Neurology                                 167\n",
      "Pediatrics-Endocrinology                  147\n",
      "Otolaryngology                            110\n",
      "Hematology/Oncology                       109\n",
      "Endocrinology                              97\n",
      "Surgery-Thoracic                           91\n",
      "Surgery-Cardiovascular                     85\n",
      "Pediatrics-CriticalCare                    73\n",
      "Podiatry                                   63\n",
      "Gynecology                                 54\n",
      "Psychology                                 53\n",
      "Surgeon                                    40\n",
      "Radiology                                  38\n",
      "Osteopath                                  37\n",
      "Hospitalist                                36\n",
      "Ophthalmology                              35\n",
      "Hematology                                 31\n",
      "Surgery-Plastic                            29\n",
      "InfectiousDiseases                         29\n",
      "SurgicalSpecialty                          26\n",
      "Obsterics&Gynecology-GynecologicOnco       18\n",
      "Obstetrics                                 17\n",
      "Anesthesiology-Pediatric                   13\n",
      "Rheumatology                               10\n",
      "OutreachServices                            9\n",
      "Surgery-Colon&Rectal                        9\n",
      "Surgery-Maxillofacial                       8\n",
      "Pediatrics-Neurology                        7\n",
      "Anesthesiology                              7\n",
      "PhysicianNotFound                           7\n",
      "Cardiology-Pediatric                        7\n",
      "Endocrinology-Metabolism                    7\n",
      "AllergyandImmunology                        6\n",
      "Pediatrics-Pulmonology                      6\n",
      "Pathology                                   6\n",
      "Psychiatry-Child/Adolescent                 6\n",
      "Surgery-Pediatric                           6\n",
      "DCPTEAM                                     4\n",
      "Dentistry                                   4\n",
      "Pediatrics-Hematology-Oncology              3\n",
      "Pediatrics-EmergencyMedicine                3\n",
      "Neurophysiology                             1\n",
      "Perinatology                                1\n",
      "Psychiatry-Addictive                        1\n",
      "Speech                                      1\n",
      "SportsMedicine                              1\n",
      "Dermatology                                 1\n",
      "Proctology                                  1\n",
      "Surgery-PlasticwithinHeadandNeck            1\n",
      "Resident                                    1\n",
      "Name: medical_specialty, dtype: int64\n"
     ]
    }
   ],
   "source": [
    "#pd.set_option('display.max_rows', 500)\n",
    "print(diabetes_raw['medical_specialty'].value_counts())"
   ]
  },
  {
   "cell_type": "code",
   "execution_count": 40,
   "metadata": {},
   "outputs": [],
   "source": [
    "def cluster_medical_specialty(x):\n",
    "    \n",
    "    # Dicionário com as categorias semelhantes\n",
    "    specialty_groups = {\n",
    "        \n",
    "        'Missing': ['Missing'],\n",
    "        \n",
    "        'cardiology': ['Cardiology', 'Cardiology-Pediatric'],\n",
    "        \n",
    "        'medical-care': ['InternalMedicine', 'Family/GeneralPractice', 'Emergency/Trauma',\n",
    "                        'Hospitalist'],\n",
    "        \n",
    "        'surgery': ['Surgery-General', 'Surgery-PlasticwithinHeadandNeck',\n",
    "                    'Surgery-Pediatric', 'Surgery-Maxillofacial', 'Surgery-Colon&Rectal',\n",
    "                    'Surgery-Plastic', 'Surgeon', 'Surgery-Vascular', 'Surgery-Neuro',\n",
    "                    'Surgery-Cardiovascular/Thoracic', 'Surgery-Cardiovascular',\n",
    "                    'SurgicalSpecialty', 'Surgery-Thoracic'],\n",
    "        \n",
    "        'ortopedic' : ['Orthopedics', 'Orthopedics-Reconstructive'],\n",
    "        \n",
    "        'neuro' : ['Neurology', 'Neurophysiology'],\n",
    "        \n",
    "        'pediatrics' : ['Pediatrics','Pediatrics-CriticalCare','Pediatrics-EmergencyMedicine',\n",
    "                        'Pediatrics-Endocrinology','Pediatrics-Hematology-Oncology',\n",
    "                'Pediatrics-Neurology','Pediatrics-Pulmonology', 'Anesthesiology-Pediatric'],\n",
    "\n",
    "        'psychic' : ['Psychiatry-Addictive', 'Psychology', 'Psychiatry',\n",
    "                    'Psychiatry-Child/Adolescent', 'PhysicalMedicineandRehabilitation'],\n",
    "        \n",
    "        'endo-obstetric': ['Obsterics&Gynecology-GynecologicOnco', 'Obstetrics', 'Endocrinology-Metabolism',\n",
    "                        'Endocrinology', 'ObstetricsandGynecology', 'Gynecology'],\n",
    "        \n",
    "        'ungrouped': ['Pathology', 'Ophthalmology', 'Dermatology', 'Proctology', 'Dentistry',\n",
    "                    'Perinatology', 'Anesthesiology', 'Rheumatology', 'Hematology',\n",
    "                    'Pulmonology', 'Urology', 'Oncology', 'Radiologist', 'Gastroenterology',\n",
    "                    'Otolaryngology', 'Hematology/Oncology', 'Podiatry', 'Radiology'],\n",
    "\n",
    "        'others': ['OutreachServices', 'Resident', 'DCPTEAM', 'Speech', 'Osteopath',\n",
    "                'SportsMedicine', 'PhysicianNotFound', 'InfectiousDiseases',\n",
    "                'AllergyandImmunology'],\n",
    "    }\n",
    "\n",
    "    for category, groups in specialty_groups.items():\n",
    "        if x in groups:\n",
    "            return category\n"
   ]
  },
  {
   "cell_type": "code",
   "execution_count": 44,
   "metadata": {},
   "outputs": [],
   "source": [
    "diabetes_raw['medical_specialty'] = diabetes_raw['medical_specialty'].apply(cluster_medical_specialty)"
   ]
  },
  {
   "cell_type": "code",
   "execution_count": 45,
   "metadata": {},
   "outputs": [
    {
     "data": {
      "text/plain": [
       "Missing           33639\n",
       "medical-care      20048\n",
       "cardiology         4214\n",
       "surgery            3751\n",
       "ungrouped          2992\n",
       "ortopedic          2169\n",
       "psychic             867\n",
       "endo-obstetric      786\n",
       "pediatrics          447\n",
       "neuro               168\n",
       "others               95\n",
       "Name: medical_specialty, dtype: int64"
      ]
     },
     "execution_count": 45,
     "metadata": {},
     "output_type": "execute_result"
    }
   ],
   "source": [
    "diabetes_raw['medical_specialty'].value_counts()"
   ]
  },
  {
   "attachments": {},
   "cell_type": "markdown",
   "metadata": {},
   "source": [
    "### Feture Creation"
   ]
  },
  {
   "cell_type": "code",
   "execution_count": 48,
   "metadata": {},
   "outputs": [],
   "source": [
    "diabetes_raw['service_utilization'] = (\n",
    "    diabetes_raw['number_emergency']\n",
    "    + diabetes_raw['number_inpatient']\n",
    "    + diabetes_raw['number_outpatient']\n",
    ")"
   ]
  },
  {
   "cell_type": "code",
   "execution_count": 55,
   "metadata": {},
   "outputs": [],
   "source": [
    "diabetes_raw['severity_of_disease'] = (\n",
    "    diabetes_raw['time_in_hospital']\n",
    "    + diabetes_raw['num_procedures']\n",
    "    + diabetes_raw['num_medications']\n",
    "    + diabetes_raw['num_lab_procedures']\n",
    "    + diabetes_raw['number_diagnoses']\n",
    ")"
   ]
  },
  {
   "cell_type": "code",
   "execution_count": 56,
   "metadata": {},
   "outputs": [
    {
     "data": {
      "text/plain": [
       "Index(['race', 'gender', 'age', 'admission_type_id',\n",
       "       'discharge_disposition_id', 'admission_source_id', 'time_in_hospital',\n",
       "       'payer_code', 'medical_specialty', 'num_lab_procedures',\n",
       "       'num_procedures', 'num_medications', 'number_outpatient',\n",
       "       'number_emergency', 'number_inpatient', 'diag_1', 'diag_2', 'diag_3',\n",
       "       'number_diagnoses', 'max_glu_serum', 'A1Cresult', 'metformin',\n",
       "       'repaglinide', 'nateglinide', 'chlorpropamide', 'glimepiride',\n",
       "       'acetohexamide', 'glipizide', 'glyburide', 'tolbutamide',\n",
       "       'pioglitazone', 'rosiglitazone', 'acarbose', 'miglitol', 'troglitazone',\n",
       "       'tolazamide', 'insulin', 'glyburide-metformin', 'glipizide-metformin',\n",
       "       'glimepiride-pioglitazone', 'metformin-rosiglitazone',\n",
       "       'metformin-pioglitazone', 'change', 'diabetesMed', 'readmitted',\n",
       "       'service_utilization', 'severity_of_disease'],\n",
       "      dtype='object')"
      ]
     },
     "execution_count": 56,
     "metadata": {},
     "output_type": "execute_result"
    }
   ],
   "source": [
    "diabetes_raw.columns"
   ]
  },
  {
   "cell_type": "code",
   "execution_count": 58,
   "metadata": {},
   "outputs": [
    {
     "name": "stderr",
     "output_type": "stream",
     "text": [
      " 14%|█▎        | 9573/69973 [00:51<05:40, 177.62it/s]"
     ]
    }
   ],
   "source": [
    "from tqdm import tqdm\n",
    "\n",
    "number_of_changes = []\n",
    "drugList = ['metformin', 'repaglinide', 'nateglinide', 'chlorpropamide', 'glimepiride',\n",
    "       'acetohexamide', 'glipizide', 'glyburide', 'tolbutamide', 'pioglitazone',\n",
    "       'rosiglitazone', 'acarbose', 'miglitol', 'troglitazone', 'tolazamide', 'insulin',\n",
    "       'glyburide-metformin', 'glipizide-metformin', 'glimepiride-pioglitazone',\n",
    "       'metformin-rosiglitazone', 'metformin-pioglitazone']\n",
    "\n",
    "\n",
    "for i in tqdm(range(len(diabetes_raw))) :\n",
    "    changeCount = 0\n",
    "    for col in drugList : \n",
    "        if diabetes_raw.iloc[i][col] in ['Down', 'Up'] :\n",
    "            changeCount += 1\n",
    "    number_of_changes.append(changeCount)\n",
    "\n",
    "diabetes_raw['number_of_changes'] = number_of_changes"
   ]
  },
  {
   "attachments": {},
   "cell_type": "markdown",
   "metadata": {},
   "source": [
    "### Encoding"
   ]
  },
  {
   "cell_type": "code",
   "execution_count": null,
   "metadata": {},
   "outputs": [],
   "source": []
  },
  {
   "cell_type": "code",
   "execution_count": null,
   "metadata": {},
   "outputs": [],
   "source": []
  },
  {
   "attachments": {},
   "cell_type": "markdown",
   "metadata": {},
   "source": [
    "#### Scalling"
   ]
  },
  {
   "cell_type": "code",
   "execution_count": null,
   "metadata": {},
   "outputs": [],
   "source": []
  },
  {
   "attachments": {},
   "cell_type": "markdown",
   "metadata": {},
   "source": [
    "### Feature Selection"
   ]
  },
  {
   "cell_type": "code",
   "execution_count": null,
   "metadata": {},
   "outputs": [],
   "source": []
  },
  {
   "attachments": {},
   "cell_type": "markdown",
   "metadata": {},
   "source": [
    "## Class Imbalanced"
   ]
  },
  {
   "cell_type": "code",
   "execution_count": null,
   "metadata": {},
   "outputs": [],
   "source": []
  },
  {
   "attachments": {},
   "cell_type": "markdown",
   "metadata": {},
   "source": [
    "SMOTE"
   ]
  },
  {
   "attachments": {},
   "cell_type": "markdown",
   "metadata": {},
   "source": [
    "### Save Dataframe"
   ]
  },
  {
   "cell_type": "markdown",
   "metadata": {},
   "source": []
  }
 ],
 "metadata": {
  "kernelspec": {
   "display_name": ".venv",
   "language": "python",
   "name": "python3"
  },
  "language_info": {
   "codemirror_mode": {
    "name": "ipython",
    "version": 3
   },
   "file_extension": ".py",
   "mimetype": "text/x-python",
   "name": "python",
   "nbconvert_exporter": "python",
   "pygments_lexer": "ipython3",
   "version": "3.10.7"
  },
  "orig_nbformat": 4
 },
 "nbformat": 4,
 "nbformat_minor": 2
}
